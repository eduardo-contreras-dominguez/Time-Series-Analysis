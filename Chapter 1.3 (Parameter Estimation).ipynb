{
 "cells": [
  {
   "cell_type": "code",
   "execution_count": 22,
   "id": "263a8c7f",
   "metadata": {},
   "outputs": [],
   "source": [
    "import pandas as pd\n",
    "import requests\n",
    "import matplotlib.pyplot as plt\n",
    "import math\n",
    "import numpy as np\n",
    "from statsmodels.tsa.api import acf, graphics, pacf\n",
    "from statsmodels.tsa.ar_model import AutoReg, ar_select_order"
   ]
  },
  {
   "cell_type": "markdown",
   "id": "5e510f19",
   "metadata": {},
   "source": [
    "### 1. Estimation of AR Models\n",
    "\n",
    "Here we can use OLS estimator, \n",
    "\n",
    "$$\\hat{\\alpha} = \\left( \\sum_{t=1}^{T}Y_{t-1}Y^{T}_{t-1}\\right)^{-1}\\sum_{t=1}^{T}Y_{t-1}y_t$$\n",
    "\n",
    "Where $Y_{T-1} = (1, y_{t-1}, \\ldots, y_{t-p})$\n",
    "\n",
    "For the residuals, \n",
    "\n",
    "$$\\hat{u_t} = y_t - Y_{T-1}\\hat{\\alpha}$$"
   ]
  },
  {
   "cell_type": "markdown",
   "id": "3fdc5098",
   "metadata": {},
   "source": [
    "### 2. Estimation of MA Models\n",
    "\n",
    "More difficult than OLS, because non linearity in the parameters. We will use Maximum Likelihood method. \n",
    "Recall, \n",
    "\n",
    "$$f(y_1, \\ldots, y_T) = f(y_1)\\times f(y_2\\vert y_1)\\times \\ldots \\times f(y_T\\vert y_{T-1}, \\ldots y_1)$$\n",
    "\n",
    "So, if we assume that __conditional distribution of $y_t$ is normal__, the log-likelihood function is: \n",
    "\n",
    "$$l(\\alpha_1, \\ldots, \\alpha_p, m_1, \\ldots, m_q) = \\sum_{t=1}^{T}l_t(.)$$\n",
    "\n",
    "where, \n",
    "\n",
    "$$l_t(.) = -\\frac{1}{2}log(2\\pi) -\\frac{1}{2}log(\\sigma_u^2) - \\left( m(L)^{-1}\\alpha(L)y_t \\right)^2/2\\sigma_u^2$$\n",
    "\n",
    "This is because our assumption on gaussian conditional distribution: \n",
    "\n",
    "$$f(y_t\\vert y_1, \\ldots, y_{t-1}) = \\frac{1}{\\sigma_u \\sqrt{2\\pi}} exp\\left( -\\frac{1}{2\\sigma_u^2}(y_t - \\hat y_t) \\right)$$\n",
    "\n",
    "where, \n",
    "\n",
    "$$y_t - \\hat y_t = u_t$$\n",
    "\n",
    "### 3. Model Specification\n",
    "\n",
    "#### 3.1 AR Processes\n",
    "\n",
    "Specifying the kinds of models we have discussed so far requires deciding __the orders of the various operators and deterministic terms__. \n",
    "\n",
    "This can be done fitting a model, performing tests for model adequacy and model reduction. This approach is limited, parameters in an overfitted ARMA model may not be unique. \n",
    "\n",
    "Normally to look for AR model order look at the __partial autocorrelation function plot__\n",
    "\n",
    "__*Look for model selection techniques on the book page 33*__\n",
    "\n",
    "Many of the AR order selection criteria are of the form: \n",
    "\n",
    "$$Cr(n) = log(\\tilde{\\sigma_u}^2(n)) + c_T\\varphi(n)$$\n",
    "\n",
    "where, \n",
    "\n",
    "$$\\tilde{\\sigma_u}^2(n) = \\frac{1}{T}\\sum_{t=1}^{T}\\hat{u}_t(n)$$\n",
    "\n",
    "Is the error variance estimator based on the OLS residuals __from an AR model of order $n$__.\n",
    "\n",
    "##### Explanation\n",
    "\n",
    "- The first term on the right-hand side measures the fit of a model with order $n$.\n",
    "- $c_T$ is a sequence indexed by the sample size\n",
    "- $\\varphi(n)$ is the order of the fitted process, __function penalizing large AR orders__.\n",
    "- Sample size is assumed to be constant for all orders $n$, number of presampled values set aside for estimation of the first $y_t$ estimations is determined by the maximum order considered $p_{max}$ lets say. \n",
    "\n",
    "__We will choose the order minimizing $Cr(n)$, let's call it $\\hat{p}$.__\n",
    "\n",
    "##### Order-Criteria Examples\n",
    "\n",
    "- $AIC(n) = log(\\tilde{\\sigma_u}^2(n)) + \\frac{2}{T}n$\n",
    "- $SC(n) = log(\\tilde{\\sigma_u}^2(n)) + \\frac{log(T)}{T}n$\n",
    "\n",
    "#### 3.1 ARMA Processes\n",
    "\n",
    "Difficulty with this processes, is that we need the estimation of many models with different orders (AR and MA parts).\n",
    "Cancellation of AR and MA parts are possible. \n",
    "\n",
    "Fit an $AR(h)$ model with large order $h$ by OLS to obtain residuals $\\hat{u}_t(h)$. Then models of the form\n",
    "\n",
    "$$y_t = \\alpha_1y_{t-1} + \\ldots + \\alpha_n y_{t - n} + u_t+m_1\\hat{u}_{t-1}(h) + \\ldots + m_l\\hat{u}_{t-l}(h)$$\n",
    "\n",
    "are fitted for all combinations $(n,l)$. The combination of orders minimizing a criterion\n",
    "\n",
    "$$Cr(n, l) = log(\\tilde{\\sigma_u}^2(n, l)) + c_T\\varphi(n, l)$$\n",
    "\n",
    "is chosen. \n",
    "\n",
    "##### Order-Criteria Examples\n",
    "\n",
    "- $AIC(n) = log(\\tilde{\\sigma_u}^2(n)) + \\frac{2}{T}(n+l)$"
   ]
  },
  {
   "cell_type": "markdown",
   "id": "bb996086",
   "metadata": {},
   "source": [
    "### 4. Example\n",
    "\n",
    "First we will plot long-term interest rates on Germany dataset. Then we will plot PACF to see the order of AR model to use."
   ]
  },
  {
   "cell_type": "code",
   "execution_count": 27,
   "id": "eab28eb5",
   "metadata": {},
   "outputs": [
    {
     "data": {
      "text/plain": [
       "108"
      ]
     },
     "execution_count": 27,
     "metadata": {},
     "output_type": "execute_result"
    }
   ],
   "source": [
    "#Building long-term interest rates Dataframe ##########################\n",
    "url_1 = \"http://www.jmulti.de/download/datasets/Umlaufsrendite.dat\"\n",
    "df  = pd.read_csv(url_1, on_bad_lines='skip').iloc[:,:1]\n",
    "df = df.iloc[:,0].str.split()[6:]\n",
    "df_ir= pd.DataFrame(columns = [\"Long Term Interest Rates\"])\n",
    "df_ir[\"Long Term Interest Rates\"] = [float(element[0]) for element in df]\n"
   ]
  },
  {
   "cell_type": "code",
   "execution_count": 24,
   "id": "3a57de99",
   "metadata": {},
   "outputs": [
    {
     "name": "stderr",
     "output_type": "stream",
     "text": [
      "/Library/Frameworks/Python.framework/Versions/3.10/lib/python3.10/site-packages/statsmodels/graphics/tsaplots.py:348: FutureWarning: The default method 'yw' can produce PACF values outside of the [-1,1] interval. After 0.13, the default will change tounadjusted Yule-Walker ('ywm'). You can use this method now by setting method='ywm'.\n",
      "  warnings.warn(\n"
     ]
    },
    {
     "data": {
      "image/png": "[encoded data removed]",
      "text/plain": [
       "<Figure size 640x480 with 1 Axes>"
      ]
     },
     "metadata": {},
     "output_type": "display_data"
    }
   ],
   "source": [
    "pacf = plot_pacf(df_ir[\"Long Term Interest Rates\"], lags=10)"
   ]
  },
  {
   "cell_type": "markdown",
   "id": "529d5094",
   "metadata": {},
   "source": [
    "Watching the PACF closely, __it seems an AR(4) model suits better__."
   ]
  },
  {
   "cell_type": "code",
   "execution_count": 59,
   "id": "aeccf180",
   "metadata": {
    "scrolled": true
   },
   "outputs": [
    {
     "name": "stdout",
     "output_type": "stream",
     "text": [
      "                               AutoReg Model Results                                \n",
      "====================================================================================\n",
      "Dep. Variable:     Long Term Interest Rates   No. Observations:                  108\n",
      "Model:                           AutoReg(4)   Log Likelihood                 397.638\n",
      "Method:                     Conditional MLE   S.D. of innovations              0.005\n",
      "Date:                      Thu, 29 Dec 2022   AIC                           -783.277\n",
      "Time:                              07:11:06   BIC                           -767.410\n",
      "Sample:                                   4   HQIC                          -776.849\n",
      "                                        108                                         \n",
      "===============================================================================================\n",
      "                                  coef    std err          z      P>|z|      [0.025      0.975]\n",
      "-----------------------------------------------------------------------------------------------\n",
      "const                           0.0048      0.003      1.796      0.072      -0.000       0.010\n",
      "Long Term Interest Rates.L1     1.1416      0.096     11.932      0.000       0.954       1.329\n",
      "Long Term Interest Rates.L2    -0.2476      0.145     -1.706      0.088      -0.532       0.037\n",
      "Long Term Interest Rates.L3     0.2508      0.145      1.726      0.084      -0.034       0.536\n",
      "Long Term Interest Rates.L4    -0.2136      0.098     -2.187      0.029      -0.405      -0.022\n",
      "                                    Roots                                    \n",
      "=============================================================================\n",
      "                  Real          Imaginary           Modulus         Frequency\n",
      "-----------------------------------------------------------------------------\n",
      "AR.1           -0.6721           -1.5855j            1.7220           -0.3138\n",
      "AR.2           -0.6721           +1.5855j            1.7220            0.3138\n",
      "AR.3            1.1786           -0.0000j            1.1786           -0.0000\n",
      "AR.4            1.3396           -0.0000j            1.3396           -0.0000\n",
      "-----------------------------------------------------------------------------\n",
      "-782.4105326687718\n"
     ]
    }
   ],
   "source": [
    "mod = AutoReg(df_ir, 4, old_names=False)\n",
    "res = mod.fit()\n",
    "print(res.summary())\n",
    "print(res.aicc)"
   ]
  },
  {
   "cell_type": "code",
   "execution_count": 65,
   "id": "c3ef5e9f",
   "metadata": {},
   "outputs": [],
   "source": [
    "def akaike(data, pmax):\n",
    "    \"\"\"\n",
    "    Computing Akaike information criterion\n",
    "    \"\"\"\n",
    "    output = dict()\n",
    "    for n in range(1, pmax+1):\n",
    "        res = AutoReg(data, n, old_names=False).fit()\n",
    "        output[n] = res.aicc\n",
    "    df = pd.DataFrame(data = list(output.values()), index = list(output.keys()))\n",
    "    return df"
   ]
  },
  {
   "cell_type": "code",
   "execution_count": 66,
   "id": "f0001ea0",
   "metadata": {},
   "outputs": [
    {
     "data": {
      "text/plain": [
       "<AxesSubplot:>"
      ]
     },
     "execution_count": 66,
     "metadata": {},
     "output_type": "execute_result"
    },
    {
     "data": {
      "image/png": "[encoded data removed]",
      "text/plain": [
       "<Figure size 640x480 with 1 Axes>"
      ]
     },
     "metadata": {},
     "output_type": "display_data"
    }
   ],
   "source": []
  },
  {
   "cell_type": "code",
   "execution_count": null,
   "id": "58110313",
   "metadata": {},
   "outputs": [],
   "source": []
  }
 ],
 "metadata": {
  "kernelspec": {
   "display_name": "Python 3 (ipykernel)",
   "language": "python",
   "name": "python3"
  },
  "language_info": {
   "codemirror_mode": {
    "name": "ipython",
    "version": 3
   },
   "file_extension": ".py",
   "mimetype": "text/x-python",
   "name": "python",
   "nbconvert_exporter": "python",
   "pygments_lexer": "ipython3",
   "version": "3.10.5"
  }
 },
 "nbformat": 4,
 "nbformat_minor": 5
}
